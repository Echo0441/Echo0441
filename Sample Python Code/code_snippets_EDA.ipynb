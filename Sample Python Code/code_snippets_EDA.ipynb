{
 "cells": [
  {
   "cell_type": "markdown",
   "id": "02046e4e",
   "metadata": {},
   "source": [
    "Code Snippets for EDA"
   ]
  },
  {
   "cell_type": "code",
   "execution_count": null,
   "id": "53276238",
   "metadata": {
    "scrolled": false
   },
   "outputs": [],
   "source": [
    "#install packages needed\n",
    "pip install numpy pandas seaborn matplotlib"
   ]
  },
  {
   "cell_type": "code",
   "execution_count": null,
   "id": "647d2e85",
   "metadata": {},
   "outputs": [],
   "source": [
    "# Importing the required packages here\n",
    "\n",
    "import numpy as np\n",
    "import pandas as pd\n",
    "import seaborn as sns\n",
    "import ast, json\n",
    "\n",
    "from datetime import datetime\n",
    "import matplotlib.pyplot as plt\n",
    "%matplotlib inline"
   ]
  },
  {
   "cell_type": "code",
   "execution_count": null,
   "id": "5ee9d0a3",
   "metadata": {
    "scrolled": true
   },
   "outputs": [],
   "source": [
    "# Let's load the dataset and create their dataframes\n",
    "\n",
    "credits_df = pd.read_csv('C:/Users/e635172/Desktop/machine learning/tmdb_5000_credits.csv')\n",
    "movies_df = pd.read_csv('C:/Users/e635172/Desktop/machine learning/tmdb_5000_movies.csv')\n",
    "movies_df.head()"
   ]
  },
  {
   "cell_type": "code",
   "execution_count": null,
   "id": "de9e6a66",
   "metadata": {},
   "outputs": [],
   "source": [
    "# First step is to clean the data and see which are the redundant or unnecessary cols\n",
    "\n",
    "del_col_list = ['keywords', 'homepage', 'status', 'tagline', 'original_language', 'homepage', \n",
    "                'overview', 'production_companies', 'original_title']\n",
    "\n",
    "movies_df = movies_df.drop(del_col_list, axis=1)\n",
    "movies_df.head()"
   ]
  },
  {
   "cell_type": "code",
   "execution_count": null,
   "id": "e0a476b4",
   "metadata": {},
   "outputs": [],
   "source": [
    "#  dropping the duplicates from the dataset.\n",
    "print(movies_df.shape)\n",
    "movies_df = movies_df.drop_duplicates(keep='first')\n",
    "print(movies_df.shape)"
   ]
  },
  {
   "cell_type": "code",
   "execution_count": null,
   "id": "12a43eb0",
   "metadata": {},
   "outputs": [],
   "source": [
    "# replacing all the zeros from revenue and budget cols.\n",
    "\n",
    "cols = ['budget', 'revenue']\n",
    "movies_df[cols] = movies_df[cols].replace(0, np.nan)\n",
    "\n",
    "# dropping all the rows with na in the columns mentioned above in the list.\n",
    "movies_df.dropna(subset=cols, inplace=True)\n",
    "movies_df.shape"
   ]
  },
  {
   "cell_type": "code",
   "execution_count": null,
   "id": "8a425fda",
   "metadata": {},
   "outputs": [],
   "source": [
    "# Changing the release_date column to DateTime column\n",
    "\n",
    "movies_df.release_date = pd.to_datetime(movies_df['release_date'])\n",
    "# To answer the last question, we'll have to extract the release year from every release date\n",
    "movies_df['release_year'] = movies_df['release_date'].dt.year\n",
    "movies_df.head()"
   ]
  },
  {
   "cell_type": "code",
   "execution_count": null,
   "id": "96c4fb0b",
   "metadata": {},
   "outputs": [],
   "source": [
    "# Changing the data type of the below mentioned columns and \n",
    "change_cols=['budget', 'revenue']\n",
    "#changing data type\n",
    "movies_df[change_cols]=movies_df[change_cols].applymap(np.int64)\n",
    "movies_df.dtypes"
   ]
  },
  {
   "cell_type": "code",
   "execution_count": null,
   "id": "8a29f187",
   "metadata": {},
   "outputs": [],
   "source": [
    "# we see that there are columns which are in json format,\n",
    "# let's flatten these json data into easyily interpretable lists\n",
    "\n",
    "def parse_col_json(column, key):\n",
    "    \"\"\"\n",
    "    Args:\n",
    "        column: string\n",
    "            name of the column to be processed.\n",
    "        key: string\n",
    "            name of the dictionary key which needs to be extracted\n",
    "    \"\"\"\n",
    "    for index,i in zip(movies_df.index,movies_df[column].apply(json.loads)):\n",
    "        list1=[]\n",
    "        for j in range(len(i)):\n",
    "            list1.append((i[j][key]))# the key 'name' contains the name of the genre\n",
    "        movies_df.loc[index,column]=str(list1)\n",
    "    \n",
    "parse_col_json('genres', 'name')\n",
    "parse_col_json('spoken_languages', 'name')\n",
    "parse_col_json('production_countries', 'name')\n",
    "\n",
    "movies_df.head()\n"
   ]
  },
  {
   "cell_type": "code",
   "execution_count": null,
   "id": "a7b0b816",
   "metadata": {},
   "outputs": [],
   "source": [
    "# Answer to question #1.\n",
    "# To find out the most expensive movies, we need to look at the budget set for them which is an indicator of expense.\n",
    "\n",
    "expensive_movies_df = movies_df.sort_values(by ='budget', ascending=False).head()\n",
    "expensive_movies_df"
   ]
  },
  {
   "cell_type": "code",
   "execution_count": null,
   "id": "f66accf1",
   "metadata": {},
   "outputs": [],
   "source": [
    "def find_min_max_in(col):\n",
    "    \"\"\"\n",
    "    The function takes in a column and returns the top 5\n",
    "    and bottom 5 movies dataframe in that column.\n",
    "    \n",
    "    args:\n",
    "        col: string - column name\n",
    "    return:\n",
    "        info_df: dataframe - final 5 movies dataframe\n",
    "    \"\"\"\n",
    "    \n",
    "    top = movies_df[col].idxmax()\n",
    "    top_df = pd.DataFrame(movies_df.loc[top])\n",
    "    \n",
    "    bottom = movies_df[col].idxmin()\n",
    "    bottom_df = pd.DataFrame(movies_df.loc[bottom])\n",
    "    \n",
    "    info_df = pd.concat([top_df, bottom_df], axis=1)\n",
    "    return info_df\n",
    "\n",
    "find_min_max_in('budget')"
   ]
  },
  {
   "cell_type": "code",
   "execution_count": null,
   "id": "8dc76e6c",
   "metadata": {},
   "outputs": [],
   "source": [
    "# to find the most profitable movies, we need to find who made the most \n",
    "# amount after deducting the budget from the revenue generated.\n",
    "\n",
    "movies_df['profit'] = movies_df['revenue'] - movies_df['budget']\n",
    "cols = ['budget',\n",
    "         'profit',\n",
    "         'revenue',\n",
    "         'genres',\n",
    "         'id',\n",
    "         'popularity',\n",
    "         'production_countries',\n",
    "        'release_date',\n",
    "        'release_year',\n",
    "         'runtime',\n",
    "         'spoken_languages',\n",
    "         'title',\n",
    "         'vote_average',\n",
    "         'vote_count']\n",
    "movies_df = movies_df[cols]\n",
    "movies_df.sort_values(by = ['profit'], ascending=False).head()\n"
   ]
  },
  {
   "cell_type": "code",
   "execution_count": null,
   "id": "50a9452b",
   "metadata": {},
   "outputs": [],
   "source": [
    "# to find the most talked about movies, we can sort the dataframe on the popularity column\n",
    "popular_movies_df = movies_df.sort_values(by ='popularity', ascending=False).head()\n",
    "popular_movies_df.head()"
   ]
  },
  {
   "cell_type": "code",
   "execution_count": null,
   "id": "ce6e4b26",
   "metadata": {},
   "outputs": [],
   "source": [
    "# in terms of runtime\n",
    "# Average runtime of movies\n",
    "movies_df['runtime'].mean()\n",
    "# comparison\n",
    "find_min_max_in('runtime')"
   ]
  },
  {
   "cell_type": "code",
   "execution_count": null,
   "id": "aa6b9802",
   "metadata": {},
   "outputs": [],
   "source": [
    "# movies rated above 7 \n",
    "\n",
    "movies_df[movies_df['vote_average'] >= 7.0]"
   ]
  },
  {
   "cell_type": "code",
   "execution_count": null,
   "id": "e9bd9740",
   "metadata": {},
   "outputs": [],
   "source": [
    "\n",
    "profits_year = movies_df.groupby('release_year')['profit'].sum()\n",
    "\n",
    "\n",
    "#figure size(width, height)\n",
    "plt.figure(figsize=(12,6), dpi = 130)\n",
    "\n",
    "#on x-axis\n",
    "plt.xlabel('Release Year of Movies in the data set', fontsize = 12)\n",
    "#on y-axis\n",
    "plt.ylabel('Profits earned by Movies', fontsize = 12)\n",
    "#title of the line plot\n",
    "plt.title('Representing Total Profits earned by all movies Vs Year of their release.')\n",
    "\n",
    "#plotting the graph\n",
    "plt.plot(profits_year)\n",
    "\n",
    "#displaying the line plot\n",
    "plt.show()"
   ]
  },
  {
   "cell_type": "code",
   "execution_count": null,
   "id": "ed2d3693",
   "metadata": {},
   "outputs": [],
   "source": [
    "# Most profitable year from the given dataset.\n",
    "\n",
    "profits_year.idxmax()"
   ]
  },
  {
   "cell_type": "code",
   "execution_count": null,
   "id": "bc3d7269",
   "metadata": {},
   "outputs": [],
   "source": []
  }
 ],
 "metadata": {
  "kernelspec": {
   "display_name": "Python 3",
   "language": "python",
   "name": "python3"
  },
  "language_info": {
   "codemirror_mode": {
    "name": "ipython",
    "version": 3
   },
   "file_extension": ".py",
   "mimetype": "text/x-python",
   "name": "python",
   "nbconvert_exporter": "python",
   "pygments_lexer": "ipython3",
   "version": "3.8.8"
  }
 },
 "nbformat": 4,
 "nbformat_minor": 5
}
